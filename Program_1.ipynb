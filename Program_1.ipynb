{
  "nbformat": 4,
  "nbformat_minor": 0,
  "metadata": {
    "colab": {
      "provenance": [],
      "gpuType": "T4"
    },
    "kernelspec": {
      "name": "python3",
      "display_name": "Python 3"
    },
    "language_info": {
      "name": "python"
    },
    "accelerator": "GPU"
  },
  "cells": [
    {
      "cell_type": "code",
      "execution_count": 1,
      "metadata": {
        "id": "H4Y_9IFno2hl"
      },
      "outputs": [],
      "source": [
        "import numpy as np"
      ]
    },
    {
      "cell_type": "code",
      "source": [
        "x1 = np.array([0,0,1,1])\n",
        "x2 = np.array([0,1,0,1])\n",
        "wt = np.random.rand(2)\n",
        "bias = np.random.rand(1)"
      ],
      "metadata": {
        "id": "b1HIJ93bo5aj"
      },
      "execution_count": 2,
      "outputs": []
    },
    {
      "cell_type": "code",
      "source": [
        "y = np.array([0,0,0,1])\n",
        "def sigmoid(x):\n",
        "    return 1/(1+np.exp(-x))"
      ],
      "metadata": {
        "id": "HYq8QYsNpEYA"
      },
      "execution_count": 3,
      "outputs": []
    },
    {
      "cell_type": "code",
      "source": [
        "for i in range(4):\n",
        "    inputs = np.array([x1[i],x2[i]])\n",
        "    z = np.dot(inputs, wt)+bias\n",
        "    output = sigmoid(z)\n",
        "    print(f\"output for x1[{i}]x2[{i}] is {output}\")"
      ],
      "metadata": {
        "colab": {
          "base_uri": "https://localhost:8080/"
        },
        "id": "SHZn566zpHer",
        "outputId": "beecdb35-8c12-49d1-b38e-29b8120475e9"
      },
      "execution_count": 4,
      "outputs": [
        {
          "output_type": "stream",
          "name": "stdout",
          "text": [
            "output for x1[0]x2[0] is [0.63430112]\n",
            "output for x1[1]x2[1] is [0.74564097]\n",
            "output for x1[2]x2[2] is [0.76602065]\n",
            "output for x1[3]x2[3] is [0.84693486]\n"
          ]
        }
      ]
    }
  ]
}